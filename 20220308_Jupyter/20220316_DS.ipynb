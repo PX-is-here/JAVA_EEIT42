{
 "cells": [
  {
   "cell_type": "code",
   "execution_count": 1,
   "metadata": {},
   "outputs": [],
   "source": [
    "/*\n",
    " * Linkedlist<> 的 <> => 泛型 => 能放泛型內的一定是物件 ex. <Integer> => 記得要 upper case\n",
    " * iterae => 看不到的話，要如何知道裡面內容？ 一個一個拿出來\n",
    " *\n",
    "                         Collection\n",
    "                             /\\\n",
    "                            /  \\\n",
    "                           /    \\\n",
    "                         List   Set \n",
    "    (1. 可重覆； 2. 有順序性)       (1. 不會重複； 2. 無順序性； 3. ex.樂透產生器)\n",
    "      \n",
    " * TreeSet<> => 二元樹\n",
    " * Linkedlist => 異動性較大\n",
    " * Class MouseAdapter => 本身肚子是空的void，全部設計成 abstract, 使用者挑想要實作的來overwrite 就可以\n",
    " \n",
    "*/"
   ]
  },
  {
   "cell_type": "code",
   "execution_count": 2,
   "metadata": {},
   "outputs": [],
   "source": [
    "/* OS 作業系統\n",
    "工作管理員 => ps aux\n",
    "Class Thread => setDaemon 背景執行序（background process）=> ex. 製作 server\n",
    "*/"
   ]
  },
  {
   "cell_type": "code",
   "execution_count": null,
   "metadata": {},
   "outputs": [],
   "source": []
  }
 ],
 "metadata": {
  "kernelspec": {
   "display_name": "Java",
   "language": "java",
   "name": "java"
  },
  "language_info": {
   "codemirror_mode": "java",
   "file_extension": ".jshell",
   "mimetype": "text/x-java-source",
   "name": "Java",
   "pygments_lexer": "java",
   "version": "17.0.2+8-LTS-86"
  }
 },
 "nbformat": 4,
 "nbformat_minor": 4
}
